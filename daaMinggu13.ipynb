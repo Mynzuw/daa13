{
  "nbformat": 4,
  "nbformat_minor": 0,
  "metadata": {
    "colab": {
      "provenance": []
    },
    "kernelspec": {
      "name": "python3",
      "display_name": "Python 3"
    },
    "language_info": {
      "name": "python"
    }
  },
  "cells": [
    {
      "cell_type": "code",
      "execution_count": 14,
      "metadata": {
        "id": "nvrj_iOa-6ZP"
      },
      "outputs": [],
      "source": [
        "def bfs(graph, start):\n",
        "  visited = []\n",
        "  queue = [start]\n",
        "\n",
        "  while queue:\n",
        "    node = queue.pop(0)\n",
        "    if node not in visited:\n",
        "      visited.append(node)\n",
        "      neighbours = graph[node]\n",
        "      for neighbour in neighbours:\n",
        "        queue.append(neighbour)\n",
        "  return visited"
      ]
    },
    {
      "cell_type": "code",
      "source": [
        "graph = {'Amin' : {'Wasim', 'Nick', 'Mike'},\n",
        "         'Wasim' : {'Imran', 'Amin'},\n",
        "         'Imran' : {'Wasim', 'Faras'},\n",
        "         'Faras' : {'Imran'},\n",
        "         'Mike' : {'Amin'},\n",
        "         'Nick' : {'Amin'}}"
      ],
      "metadata": {
        "id": "Uo7G1WlJ_jvp"
      },
      "execution_count": 32,
      "outputs": []
    },
    {
      "cell_type": "code",
      "source": [
        "bfs(graph,'Amin')"
      ],
      "metadata": {
        "colab": {
          "base_uri": "https://localhost:8080/"
        },
        "id": "Vj8SveQgAAhY",
        "outputId": "53ce1244-3248-4f30-e321-50fc4217ae28"
      },
      "execution_count": 36,
      "outputs": [
        {
          "output_type": "execute_result",
          "data": {
            "text/plain": [
              "['Amin', 'Mike', 'Wasim', 'Nick', 'Imran', 'Faras']"
            ]
          },
          "metadata": {},
          "execution_count": 36
        }
      ]
    },
    {
      "cell_type": "code",
      "source": [
        "# O amin ------------------------\n",
        "# |               |             |\n",
        "# O wasim         O nick        O mike\n",
        "# |\n",
        "# O imran\n",
        "# |\n",
        "# O faras\n",
        "#\n",
        "# turun dari amin ke faras, geser ke nick & mike\n",
        "\n",
        "bfs(graph, 'Amin')"
      ],
      "metadata": {
        "colab": {
          "base_uri": "https://localhost:8080/"
        },
        "id": "AcVbjHIEBfbu",
        "outputId": "8ceaa7c5-174a-46a5-9099-794fc113748b"
      },
      "execution_count": 26,
      "outputs": [
        {
          "output_type": "execute_result",
          "data": {
            "text/plain": [
              "['Amin', 'Mike', 'Wasim', 'Nick', 'Imran', 'Faras']"
            ]
          },
          "metadata": {},
          "execution_count": 26
        }
      ]
    },
    {
      "cell_type": "code",
      "source": [
        "# O wasim ----\n",
        "# |          |\n",
        "# O imran    O amin ----\n",
        "# |          |         |\n",
        "# O faras    O nick    O mike\n",
        "\n",
        "bfs(graph, 'Wasim')"
      ],
      "metadata": {
        "colab": {
          "base_uri": "https://localhost:8080/"
        },
        "id": "HgGHPzNzEJrb",
        "outputId": "755beeeb-6170-4d11-b33a-1287f18408c9"
      },
      "execution_count": 27,
      "outputs": [
        {
          "output_type": "execute_result",
          "data": {
            "text/plain": [
              "['Wasim', 'Amin', 'Imran', 'Mike', 'Nick', 'Faras']"
            ]
          },
          "metadata": {},
          "execution_count": 27
        }
      ]
    },
    {
      "cell_type": "code",
      "source": [
        "# O faras\n",
        "# |\n",
        "# O imran\n",
        "# |\n",
        "# O wasim   O nick   O mike\n",
        "# |         |        |\n",
        "# O amin -------------\n",
        "\n",
        "bfs(graph, 'Faras')"
      ],
      "metadata": {
        "colab": {
          "base_uri": "https://localhost:8080/"
        },
        "id": "6fzGzyPlEdyy",
        "outputId": "9b83c17a-df9c-41c7-c172-f5c58fec31f3"
      },
      "execution_count": 37,
      "outputs": [
        {
          "output_type": "execute_result",
          "data": {
            "text/plain": [
              "['Faras', 'Imran', 'Wasim', 'Amin', 'Mike', 'Nick']"
            ]
          },
          "metadata": {},
          "execution_count": 37
        }
      ]
    },
    {
      "cell_type": "code",
      "source": [
        "def bfs(graphRektor, start):\n",
        "  visited = []\n",
        "  queue = [start]\n",
        "\n",
        "  while queue:\n",
        "    node = queue.pop(0)\n",
        "    if node not in visited:\n",
        "      visited.append(node)\n",
        "      neighbours = graphRektor[node]\n",
        "      for neighbour in neighbours:\n",
        "        queue.append(neighbour)\n",
        "  return visited"
      ],
      "metadata": {
        "id": "v-OEU1PdMVlY"
      },
      "execution_count": 18,
      "outputs": []
    },
    {
      "cell_type": "code",
      "source": [
        "graphRektor = {'Rektor' : {'Warek 1', 'Warek 2'},\n",
        "         'Warek 1' : {'Rektor'},\n",
        "         'Warek 2' : {'Kaprodi 1', 'Kaprodi 2', 'Kaprodi 3', 'Rektor'},\n",
        "         'Kaprodi 1' : {'Dosen A', 'Dosen B', 'Dosen C','Warek 2'},\n",
        "         'Kaprodi 2' : {'Dosen D', 'Dosen E','Warek 2'},\n",
        "         'Kaprodi 3' : {'Dosen F', 'Dosen G','Warek 2'},\n",
        "         'Dosen A' : {'Kaprodi 1'},\n",
        "         'Dosen B' : {'Kaprodi 1'},\n",
        "         'Dosen C' : {'Kaprodi 1'},\n",
        "         'Dosen D' : {'Kaprodi 2'},\n",
        "         'Dosen E' : {'Kaprodi 2'},\n",
        "         'Dosen F' : {'Kaprodi 3'},\n",
        "         'Dosen G' : {'Kaprodi 3'}}\n"
      ],
      "metadata": {
        "id": "GnNBcQt3GyaY"
      },
      "execution_count": 29,
      "outputs": []
    },
    {
      "cell_type": "code",
      "source": [
        "bfs(graphRektor, 'Rektor')"
      ],
      "metadata": {
        "colab": {
          "base_uri": "https://localhost:8080/"
        },
        "id": "b4fp62JrKCB7",
        "outputId": "b427e79c-6117-4a5c-c8d1-d84224318394"
      },
      "execution_count": 30,
      "outputs": [
        {
          "output_type": "execute_result",
          "data": {
            "text/plain": [
              "['Rektor',\n",
              " 'Warek 1',\n",
              " 'Warek 2',\n",
              " 'Kaprodi 1',\n",
              " 'Kaprodi 3',\n",
              " 'Kaprodi 2',\n",
              " 'Dosen B',\n",
              " 'Dosen C',\n",
              " 'Dosen A',\n",
              " 'Dosen F',\n",
              " 'Dosen G',\n",
              " 'Dosen E',\n",
              " 'Dosen D']"
            ]
          },
          "metadata": {},
          "execution_count": 30
        }
      ]
    },
    {
      "cell_type": "code",
      "source": [
        "bfs(graphRektor, 'Kaprodi 2')"
      ],
      "metadata": {
        "colab": {
          "base_uri": "https://localhost:8080/"
        },
        "id": "a_EOlokNP9Es",
        "outputId": "7c1fbc53-3ec9-4c5e-c353-30876a2a2410"
      },
      "execution_count": 31,
      "outputs": [
        {
          "output_type": "execute_result",
          "data": {
            "text/plain": [
              "['Kaprodi 2',\n",
              " 'Dosen E',\n",
              " 'Dosen D',\n",
              " 'Warek 2',\n",
              " 'Rektor',\n",
              " 'Kaprodi 1',\n",
              " 'Kaprodi 3',\n",
              " 'Warek 1',\n",
              " 'Dosen B',\n",
              " 'Dosen C',\n",
              " 'Dosen A',\n",
              " 'Dosen F',\n",
              " 'Dosen G']"
            ]
          },
          "metadata": {},
          "execution_count": 31
        }
      ]
    },
    {
      "cell_type": "code",
      "source": [
        "def dfs(graph, start, visited=None):\n",
        "  if visited is None:\n",
        "    visited = set()\n",
        "  visited.add(start)\n",
        "  print(start)\n",
        "  for next in graph[start] - visited:\n",
        "    dfs(graph, next, visited)\n",
        "  return visited"
      ],
      "metadata": {
        "id": "GsyntB2KQUHt"
      },
      "execution_count": 34,
      "outputs": []
    },
    {
      "cell_type": "code",
      "source": [
        "graph = {'Amin' : {'Wasim', 'Nick', 'Mike'},\n",
        "         'Wasim' : {'Imran', 'Amin'},\n",
        "         'Imran' : {'Wasim', 'Faras'},\n",
        "         'Faras' : {'Imran'},\n",
        "         'Mike' : {'Amin'},\n",
        "         'Nick' : {'Amin'}}"
      ],
      "metadata": {
        "id": "sbW88inhSHPq"
      },
      "execution_count": 35,
      "outputs": []
    },
    {
      "cell_type": "code",
      "source": [
        "# O amin ------------------------\n",
        "# |               |             |\n",
        "# O wasim         O nick        O mike\n",
        "# |\n",
        "# O imran\n",
        "# |\n",
        "# O faras\n",
        "\n",
        "dfs(graph, 'Amin')"
      ],
      "metadata": {
        "colab": {
          "base_uri": "https://localhost:8080/"
        },
        "id": "XJbrcMM0SIJR",
        "outputId": "b96235ea-0012-44a4-f589-5d7dadeef4a6"
      },
      "execution_count": 36,
      "outputs": [
        {
          "output_type": "stream",
          "name": "stdout",
          "text": [
            "Amin\n",
            "Mike\n",
            "Wasim\n",
            "Imran\n",
            "Faras\n",
            "Nick\n"
          ]
        },
        {
          "output_type": "execute_result",
          "data": {
            "text/plain": [
              "{'Amin', 'Faras', 'Imran', 'Mike', 'Nick', 'Wasim'}"
            ]
          },
          "metadata": {},
          "execution_count": 36
        }
      ]
    },
    {
      "cell_type": "code",
      "source": [
        "# O wasim ----\n",
        "# |          |\n",
        "# O imran    O amin ----\n",
        "# |          |         |\n",
        "# O faras    O nick    O mike\n",
        "\n",
        "dfs(graph, 'Wasim')"
      ],
      "metadata": {
        "colab": {
          "base_uri": "https://localhost:8080/"
        },
        "id": "YNo45xZiTZ-f",
        "outputId": "049afe2b-af49-42eb-d8d8-1025b3de5143"
      },
      "execution_count": 38,
      "outputs": [
        {
          "output_type": "stream",
          "name": "stdout",
          "text": [
            "Wasim\n",
            "Amin\n",
            "Mike\n",
            "Nick\n",
            "Imran\n",
            "Faras\n"
          ]
        },
        {
          "output_type": "execute_result",
          "data": {
            "text/plain": [
              "{'Amin', 'Faras', 'Imran', 'Mike', 'Nick', 'Wasim'}"
            ]
          },
          "metadata": {},
          "execution_count": 38
        }
      ]
    },
    {
      "cell_type": "code",
      "source": [
        "# O faras\n",
        "# |\n",
        "# O imran\n",
        "# |\n",
        "# O wasim   O nick   O mike\n",
        "# |         |        |\n",
        "# O amin -------------\n",
        "\n",
        "dfs(graph, 'Faras')"
      ],
      "metadata": {
        "colab": {
          "base_uri": "https://localhost:8080/"
        },
        "id": "2RIXjQ7-TviP",
        "outputId": "15a8d7cb-d44c-45ee-99f6-e005d0e610d3"
      },
      "execution_count": 41,
      "outputs": [
        {
          "output_type": "stream",
          "name": "stdout",
          "text": [
            "Faras\n",
            "Imran\n",
            "Wasim\n",
            "Amin\n",
            "Mike\n",
            "Nick\n"
          ]
        },
        {
          "output_type": "execute_result",
          "data": {
            "text/plain": [
              "{'Amin', 'Faras', 'Imran', 'Mike', 'Nick', 'Wasim'}"
            ]
          },
          "metadata": {},
          "execution_count": 41
        }
      ]
    },
    {
      "cell_type": "code",
      "source": [
        "# O amin ------------------\n",
        "# |           |           |\n",
        "# O wasim     O nick      O mike\n",
        "# | \n",
        "# O imran\n",
        "# |\n",
        "# O faras\n",
        "\n",
        "dfs(graph,'Nick')"
      ],
      "metadata": {
        "colab": {
          "base_uri": "https://localhost:8080/"
        },
        "id": "xlnTo5xyUGWY",
        "outputId": "a44223ae-716e-4460-b5ce-a956bc04fb9a"
      },
      "execution_count": 40,
      "outputs": [
        {
          "output_type": "stream",
          "name": "stdout",
          "text": [
            "Nick\n",
            "Amin\n",
            "Mike\n",
            "Wasim\n",
            "Imran\n",
            "Faras\n"
          ]
        },
        {
          "output_type": "execute_result",
          "data": {
            "text/plain": [
              "{'Amin', 'Faras', 'Imran', 'Mike', 'Nick', 'Wasim'}"
            ]
          },
          "metadata": {},
          "execution_count": 40
        }
      ]
    },
    {
      "cell_type": "code",
      "source": [
        "graph = {'Rektor' : {'Warek 1', 'Warek 2'},\n",
        "         'Warek 1' : {'Rektor'},\n",
        "         'Warek 2' : {'Kaprodi 1', 'Kaprodi 2', 'Kaprodi 3', 'Rektor'},\n",
        "         'Kaprodi 1' : {'Dosen A', 'Dosen B', 'Dosen C','Warek 2'},\n",
        "         'Kaprodi 2' : {'Dosen D', 'Dosen E','Warek 2'},\n",
        "         'Kaprodi 3' : {'Dosen F', 'Dosen G','Warek 2'},\n",
        "         'Dosen A' : {'Kaprodi 1'},\n",
        "         'Dosen B' : {'Kaprodi 1'},\n",
        "         'Dosen C' : {'Kaprodi 1'},\n",
        "         'Dosen D' : {'Kaprodi 2'},\n",
        "         'Dosen E' : {'Kaprodi 2'},\n",
        "         'Dosen F' : {'Kaprodi 3'},\n",
        "         'Dosen G' : {'Kaprodi 3'}}\n"
      ],
      "metadata": {
        "id": "mA_wxPbIVF4m"
      },
      "execution_count": 47,
      "outputs": []
    },
    {
      "cell_type": "code",
      "source": [
        "dfs(graph, 'Rektor')"
      ],
      "metadata": {
        "colab": {
          "base_uri": "https://localhost:8080/"
        },
        "id": "fkUcVgJ6VMzt",
        "outputId": "13a23bcb-31b6-4e0d-ed9d-b1cfeba764c0"
      },
      "execution_count": 48,
      "outputs": [
        {
          "output_type": "stream",
          "name": "stdout",
          "text": [
            "Rektor\n",
            "Warek 1\n",
            "Warek 2\n",
            "Kaprodi 1\n",
            "Dosen B\n",
            "Dosen C\n",
            "Dosen A\n",
            "Kaprodi 3\n",
            "Dosen F\n",
            "Dosen G\n",
            "Kaprodi 2\n",
            "Dosen E\n",
            "Dosen D\n"
          ]
        },
        {
          "output_type": "execute_result",
          "data": {
            "text/plain": [
              "{'Dosen A',\n",
              " 'Dosen B',\n",
              " 'Dosen C',\n",
              " 'Dosen D',\n",
              " 'Dosen E',\n",
              " 'Dosen F',\n",
              " 'Dosen G',\n",
              " 'Kaprodi 1',\n",
              " 'Kaprodi 2',\n",
              " 'Kaprodi 3',\n",
              " 'Rektor',\n",
              " 'Warek 1',\n",
              " 'Warek 2'}"
            ]
          },
          "metadata": {},
          "execution_count": 48
        }
      ]
    }
  ]
}